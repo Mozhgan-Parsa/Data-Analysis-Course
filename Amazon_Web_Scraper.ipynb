{
  "cells": [
    {
      "cell_type": "code",
      "execution_count": null,
      "id": "f236cbb9",
      "metadata": {
        "id": "f236cbb9"
      },
      "outputs": [],
      "source": [
        "# import libraries\n",
        "\n",
        "from bs4 import BeautifulSoup\n",
        "import requests\n",
        "import time\n",
        "import datetime\n",
        "\n",
        "import smtplib\n"
      ]
    },
    {
      "cell_type": "code",
      "source": [
        "import requests\n",
        "from bs4 import BeautifulSoup\n",
        "\n",
        "URL = \"https://www.amazon.ca/Analyst-Definition-Scientist-Computer-5X-Large/dp/B0CG2F958B/ref=sr_1_7?crid=3V5JGWNPGVIQ2&dib=eyJ2IjoiMSJ9.rtYOm_8EYD_Ci6VYONISpAIncL581Mz7S9v1HXM1319PXNifOWieRIA725O_SWPOmzmbaM7rg2dEa_j6beAFBcYdI92gsKMNV378T6sEvqxLcJmVW7dHSa_rKP260B6j-TnroJnQb3yBzj6ogCMCsPGHNyWutNCjSsp0eYrwzfnrzvd1OnRyiTc8T-7wmkrstzaJ4e40EcZU9YBYZ4Vmx3KaFR-DY-Jg5Ma9ytP9oozoj2cU4jYaZrtunogpoNrsPkSnR0J1Lu6rPA5jW2kKOkwKBWc1s4_46crIgpeH7lk.Sge6Pez8V-WhHLY0WIk7ouahtrZq9s5HJSeXxp86fG8&dib_tag=se&keywords=tshirt+data+analyst&qid=1720813333&sprefix=tshirt+data+analyst%2Caps%2C99&sr=8-7\"\n",
        "headers = {\n",
        "    \"User-Agent\": \"Mozilla/5.0 (Windows NT 10.0; Win64; x64) AppleWebKit/537.36 (KHTML, like Gecko) Chrome/78.0.3904.108 Safari/537.36\",\n",
        "    \"Accept-Encoding\":\"gzip, deflate\",\n",
        "    \"Accept\":\"text/html,application/xhtml+xml,application/xml;q=0.9,*/*;q=0.8\",\n",
        "    \"DNT\":\"1\",\"Connection\":\"close\",\n",
        "    \"Upgrade-Insecure-Requests\":\"1\"\n",
        "}\n",
        "\n",
        "page = requests.get(URL, headers=headers)\n",
        "\n",
        "soup1 = BeautifulSoup(page.content, \"html.parser\")\n",
        "soup2 = BeautifulSoup(soup1.prettify(), \"html.parser\")\n",
        "\n",
        "title_element = soup2.find(id='productTitle')\n",
        "if title_element:\n",
        "    title = title_element.get_text().strip()\n",
        "else:\n",
        "    title = 'Title not found'\n",
        "\n",
        "# Find the price using the identified class and navigate to the next sibling element\n",
        "price_label = soup2.find('td', class_='a-color-secondary a-size-base a-text-right a-nowrap')\n",
        "if price_label and price_label.get_text().strip() == 'Price:':\n",
        "    price_element = price_label.find_next_sibling('td')\n",
        "    if price_element:\n",
        "        price = price_element.get_text().strip()\n",
        "    else:\n",
        "        price = 'Price not found'\n",
        "else:\n",
        "    price = 'Price label not found'\n",
        "\n",
        "\n",
        "print(title)\n",
        "print(price)\n"
      ],
      "metadata": {
        "colab": {
          "base_uri": "https://localhost:8080/"
        },
        "id": "-qCq_gCQaJDh",
        "outputId": "d6ecbfa2-bc14-40b2-9655-25cab5e0a31a"
      },
      "id": "-qCq_gCQaJDh",
      "execution_count": 21,
      "outputs": [
        {
          "output_type": "stream",
          "name": "stdout",
          "text": [
            "Data Analyst Tshirt Funny Definition Data Scientist Computer Science Gift T-Shirt for Men Women\n",
            "$39.46\n",
            "                       \n",
            "\n",
            "                        $39.46\n",
            "                       \n",
            "\n",
            "\n",
            "                       -\n",
            "                      \n",
            "\n",
            "\n",
            "                        $51.33\n",
            "                       \n",
            "\n",
            "                        $51.33\n"
          ]
        }
      ]
    },
    {
      "cell_type": "code",
      "execution_count": 28,
      "id": "b6f7d66e",
      "metadata": {
        "id": "b6f7d66e",
        "outputId": "7683caf7-ec1a-4b9b-9c90-65ded466215b",
        "colab": {
          "base_uri": "https://localhost:8080/"
        }
      },
      "outputs": [
        {
          "output_type": "stream",
          "name": "stdout",
          "text": [
            "Data Analyst Tshirt Funny Definition Data Scientist Computer Science Gift T-Shirt for Men Women\n",
            "$39.46\n"
          ]
        }
      ],
      "source": [
        "# Clean up the data a little bit\n",
        "\n",
        "price = price.split( )[1]\n",
        "title = title.strip()\n",
        "\n",
        "print(title)\n",
        "print(price)"
      ]
    },
    {
      "cell_type": "code",
      "execution_count": 29,
      "id": "4f021c23",
      "metadata": {
        "id": "4f021c23",
        "outputId": "fff4f7a0-0d61-4d07-d0c7-7de67015b97e",
        "colab": {
          "base_uri": "https://localhost:8080/"
        }
      },
      "outputs": [
        {
          "output_type": "stream",
          "name": "stdout",
          "text": [
            "2024-07-12\n"
          ]
        }
      ],
      "source": [
        "# Create a Timestamp for your output to track when data was collected\n",
        "\n",
        "import datetime\n",
        "\n",
        "today = datetime.date.today()\n",
        "\n",
        "print(today)\n",
        "\n",
        "\n"
      ]
    },
    {
      "cell_type": "code",
      "execution_count": 30,
      "id": "14d703ca",
      "metadata": {
        "id": "14d703ca",
        "colab": {
          "base_uri": "https://localhost:8080/"
        },
        "outputId": "2ff07de6-5765-41d5-a32e-b7537e283f82"
      },
      "outputs": [
        {
          "output_type": "stream",
          "name": "stdout",
          "text": [
            "AmazonWebScraperDataset.csv  sample_data\n"
          ]
        }
      ],
      "source": [
        "# Create CSV and write headers and data into the file\n",
        "\n",
        "import csv\n",
        "\n",
        "header = ['Title', 'Price', 'Date']\n",
        "data = [title, price, today]\n",
        "\n",
        "\n",
        "with open('AmazonWebScraperDataset.csv', 'w', newline='', encoding='UTF8') as f:\n",
        "    writer = csv.writer(f)\n",
        "    writer.writerow(header)\n",
        "    writer.writerow(data)\n",
        "\n",
        "# Verify the file is created\n",
        "!ls"
      ]
    },
    {
      "cell_type": "code",
      "execution_count": 31,
      "id": "d07eeb86",
      "metadata": {
        "id": "d07eeb86",
        "colab": {
          "base_uri": "https://localhost:8080/"
        },
        "outputId": "d5400287-5fa8-4437-94c9-e5603c247e21"
      },
      "outputs": [
        {
          "output_type": "stream",
          "name": "stdout",
          "text": [
            "                                               Title   Price        Date\n",
            "0  Data Analyst Tshirt Funny Definition Data Scie...  $39.46  2024-07-12\n"
          ]
        }
      ],
      "source": [
        "import pandas as pd\n",
        "\n",
        "df = pd.read_csv(r'/content/AmazonWebScraperDataset.csv')\n",
        "\n",
        "print(df)\n",
        "\n"
      ]
    },
    {
      "cell_type": "code",
      "execution_count": 32,
      "id": "6b05c1eb",
      "metadata": {
        "id": "6b05c1eb"
      },
      "outputs": [],
      "source": [
        "#Now we are appending data to the csv\n",
        "\n",
        "with open('AmazonWebScraperDataset.csv', 'a+', newline='', encoding='UTF8') as f:\n",
        "    writer = csv.writer(f)\n",
        "    writer.writerow(data)"
      ]
    },
    {
      "cell_type": "code",
      "execution_count": 36,
      "id": "8e95b9e0",
      "metadata": {
        "id": "8e95b9e0"
      },
      "outputs": [],
      "source": [
        "#Combine all of the above code into one function\n",
        "\n",
        "\n",
        "def check_price():\n",
        "    URL = \"https://www.amazon.ca/Analyst-Definition-Scientist-Computer-5X-Large/dp/B0CG2F958B/ref=sr_1_7?crid=3V5JGWNPGVIQ2&dib=eyJ2IjoiMSJ9.rtYOm_8EYD_Ci6VYONISpAIncL581Mz7S9v1HXM1319PXNifOWieRIA725O_SWPOmzmbaM7rg2dEa_j6beAFBcYdI92gsKMNV378T6sEvqxLcJmVW7dHSa_rKP260B6j-TnroJnQb3yBzj6ogCMCsPGHNyWutNCjSsp0eYrwzfnrzvd1OnRyiTc8T-7wmkrstzaJ4e40EcZU9YBYZ4Vmx3KaFR-DY-Jg5Ma9ytP9oozoj2cU4jYaZrtunogpoNrsPkSnR0J1Lu6rPA5jW2kKOkwKBWc1s4_46crIgpeH7lk.Sge6Pez8V-WhHLY0WIk7ouahtrZq9s5HJSeXxp86fG8&dib_tag=se&keywords=tshirt+data+analyst&qid=1720813333&sprefix=tshirt+data+analyst%2Caps%2C99&sr=8-7\"\n",
        "\n",
        "    headers = {\"User-Agent\": \"Mozilla/5.0 (Windows NT 10.0; Win64; x64) AppleWebKit/537.36 (KHTML, like Gecko) Chrome/78.0.3904.108 Safari/537.36\", \"Accept-Encoding\":\"gzip, deflate\", \"Accept\":\"text/html,application/xhtml+xml,application/xml;q=0.9,*/*;q=0.8\", \"DNT\":\"1\",\"Connection\":\"close\", \"Upgrade-Insecure-Requests\":\"1\"}\n",
        "\n",
        "    page = requests.get(URL, headers=headers)\n",
        "\n",
        "    soup1 = BeautifulSoup(page.content, \"html.parser\")\n",
        "    soup2 = BeautifulSoup(soup1.prettify(), \"html.parser\")\n",
        "\n",
        "    title_element = soup2.find(id='productTitle')\n",
        "    if title_element:\n",
        "        title = title_element.get_text().strip()\n",
        "    else:\n",
        "        title = 'Title not found'\n",
        "\n",
        "    # Find the price using the identified class and navigate to the next sibling element\n",
        "    price_label = soup2.find('td', class_='a-color-secondary a-size-base a-text-right a-nowrap')\n",
        "    if price_label and price_label.get_text().strip() == 'Price:':\n",
        "        price_element = price_label.find_next_sibling('td')\n",
        "        if price_element:\n",
        "            price = price_element.get_text().strip()\n",
        "        else:\n",
        "            price = 'Price not found'\n",
        "    else:\n",
        "        price = 'Price label not found'\n",
        "\n",
        "    price = price.split( )[1]\n",
        "    title = title.strip()\n",
        "\n",
        "    import datetime\n",
        "\n",
        "    today = datetime.date.today()\n",
        "\n",
        "    import csv\n",
        "\n",
        "    header = ['Title', 'Price', 'Date']\n",
        "    data = [title, price, today]\n",
        "\n",
        "    with open('AmazonWebScraperDataset.csv', 'a+', newline='', encoding='UTF8') as f:\n",
        "        writer = csv.writer(f)\n",
        "        writer.writerow(data)\n",
        "\n"
      ]
    },
    {
      "cell_type": "code",
      "execution_count": null,
      "id": "c72f2c4e",
      "metadata": {
        "id": "c72f2c4e"
      },
      "outputs": [],
      "source": [
        "# Runs check_price after a set time and inputs data into your CSV\n",
        "\n",
        "while(True):\n",
        "    check_price()\n",
        "    time.sleep(40)"
      ]
    },
    {
      "cell_type": "code",
      "execution_count": 40,
      "id": "00af7126",
      "metadata": {
        "id": "00af7126",
        "colab": {
          "base_uri": "https://localhost:8080/"
        },
        "outputId": "bcebbf69-6fe1-4f41-f198-64586bc40116"
      },
      "outputs": [
        {
          "output_type": "stream",
          "name": "stdout",
          "text": [
            "                                               Title   Price        Date\n",
            "0  Data Analyst Tshirt Funny Definition Data Scie...  $39.46  2024-07-12\n",
            "1  Data Analyst Tshirt Funny Definition Data Scie...  $39.46  2024-07-12\n",
            "2  Data Analyst Tshirt Funny Definition Data Scie...  $39.46  2024-07-12\n",
            "3  Data Analyst Tshirt Funny Definition Data Scie...  $39.46  2024-07-12\n",
            "4  Data Analyst Tshirt Funny Definition Data Scie...  $39.46  2024-07-12\n",
            "5  Data Analyst Tshirt Funny Definition Data Scie...  $39.46  2024-07-12\n"
          ]
        }
      ],
      "source": [
        "import pandas as pd\n",
        "\n",
        "df = pd.read_csv(r'/content/AmazonWebScraperDataset.csv')\n",
        "\n",
        "print(df)"
      ]
    },
    {
      "cell_type": "code",
      "execution_count": 41,
      "id": "d14fce5f",
      "metadata": {
        "id": "d14fce5f"
      },
      "outputs": [],
      "source": [
        "# If uou want to try sending yourself an email (just for fun) when a price hits below a certain level you can try it\n",
        "# out with this script\n",
        "\n",
        "def send_mail():\n",
        "    server = smtplib.SMTP_SSL('smtp.gmail.com',465)\n",
        "    server.ehlo()\n",
        "    #server.starttls()\n",
        "    server.ehlo()\n",
        "    server.login('m.salimiparsa@gmail.com','xxxxxxxxxxxxxx')\n",
        "\n",
        "    subject = \"The Shirt you want is below $15! Now is your chance to buy!\"\n",
        "    body = \"Mojgan, This is the moment we have been waiting for. Now is your chance to pick up the shirt of your dreams. Don't mess it up! Link here: https://www.amazon.com/Funny-Data-Systems-Business-Analyst/dp/B07FNW9FGJ/ref=sr_1_3?dchild=1&keywords=data+analyst+tshirt&qid=1626655184&sr=8-3\"\n",
        "\n",
        "    msg = f\"Subject: {subject}\\n\\n{body}\"\n",
        "\n",
        "    server.sendmail(\n",
        "        'm.salimiparsa@gmail.com',\n",
        "        msg\n",
        "\n",
        "    )"
      ]
    }
  ],
  "metadata": {
    "kernelspec": {
      "display_name": "Python 3",
      "language": "python",
      "name": "python3"
    },
    "language_info": {
      "codemirror_mode": {
        "name": "ipython",
        "version": 3
      },
      "file_extension": ".py",
      "mimetype": "text/x-python",
      "name": "python",
      "nbconvert_exporter": "python",
      "pygments_lexer": "ipython3",
      "version": "3.8.8"
    },
    "colab": {
      "provenance": []
    }
  },
  "nbformat": 4,
  "nbformat_minor": 5
}